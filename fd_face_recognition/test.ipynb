{
 "cells": [
  {
   "cell_type": "code",
   "execution_count": 23,
   "metadata": {
    "collapsed": true
   },
   "outputs": [],
   "source": [
    "from imutils import paths\n",
    "import os\n",
    "import pickle"
   ]
  },
  {
   "cell_type": "code",
   "execution_count": 5,
   "outputs": [],
   "source": [
    "image_paths = list(paths.list_images('../datasets/face_recognition_dataset/'))"
   ],
   "metadata": {
    "collapsed": false,
    "pycharm": {
     "name": "#%%\n"
    }
   }
  },
  {
   "cell_type": "code",
   "execution_count": 19,
   "outputs": [
    {
     "data": {
      "text/plain": "'Aaron_Eckhart_0001.jpg'"
     },
     "execution_count": 19,
     "metadata": {},
     "output_type": "execute_result"
    }
   ],
   "source": [
    "name = image_paths[0].split(os.path.sep)[-1]\n",
    "name"
   ],
   "metadata": {
    "collapsed": false,
    "pycharm": {
     "name": "#%%\n"
    }
   }
  },
  {
   "cell_type": "code",
   "execution_count": 8,
   "outputs": [
    {
     "data": {
      "text/plain": "'../datasets/face_recognition_dataset/lfw_funneled\\\\Aaron_Eckhart\\\\Aaron_Eckhart_0001.jpg'"
     },
     "execution_count": 8,
     "metadata": {},
     "output_type": "execute_result"
    }
   ],
   "source": [
    "image_paths[0]"
   ],
   "metadata": {
    "collapsed": false,
    "pycharm": {
     "name": "#%%\n"
    }
   }
  },
  {
   "cell_type": "code",
   "execution_count": 20,
   "outputs": [
    {
     "data": {
      "text/plain": "['../datasets/face_recognition_dataset/lfw_funneled',\n 'Aaron_Eckhart',\n 'Aaron_Eckhart_0001.jpg']"
     },
     "execution_count": 20,
     "metadata": {},
     "output_type": "execute_result"
    }
   ],
   "source": [
    "image_paths[0].split(os.path.sep)"
   ],
   "metadata": {
    "collapsed": false,
    "pycharm": {
     "name": "#%%\n"
    }
   }
  },
  {
   "cell_type": "code",
   "execution_count": 21,
   "outputs": [
    {
     "data": {
      "text/plain": "'\\\\'"
     },
     "execution_count": 21,
     "metadata": {},
     "output_type": "execute_result"
    }
   ],
   "source": [
    "os.path.sep"
   ],
   "metadata": {
    "collapsed": false,
    "pycharm": {
     "name": "#%%\n"
    }
   }
  },
  {
   "cell_type": "code",
   "execution_count": 26,
   "outputs": [
    {
     "name": "stdout",
     "output_type": "stream",
     "text": [
      "name Adam_Sandler\n",
      "encoding [-1.04473114e-01  8.18061978e-02  8.52533504e-02  3.87000665e-02\n",
      " -1.21697888e-01  1.20097779e-01 -3.08517292e-02 -1.42419979e-01\n",
      "  1.76009193e-01 -7.81841129e-02  2.27918178e-01 -2.01077387e-03\n",
      " -2.06648558e-01  6.18595332e-02 -1.06064349e-01  1.19112268e-01\n",
      " -1.32086039e-01 -1.10525221e-01 -7.76009709e-02 -8.95726979e-02\n",
      " -2.68224254e-02  8.30675215e-02  4.95463610e-05 -1.54931713e-02\n",
      " -1.73395604e-01 -2.95880139e-01 -1.73381157e-02 -1.16208799e-01\n",
      "  1.59039527e-01 -8.83947164e-02 -3.37993018e-02  1.07499659e-01\n",
      " -1.35521442e-01  2.83508822e-02  3.16928551e-02  7.47480541e-02\n",
      " -3.32061052e-02 -3.87086384e-02  2.37093985e-01  8.91378373e-02\n",
      " -1.77730292e-01  2.92812921e-02  1.94232240e-02  3.29732001e-01\n",
      "  1.38622090e-01 -3.95372957e-02  3.90309840e-02 -6.27577156e-02\n",
      "  1.43104419e-01 -2.99398899e-01  4.65625636e-02  1.75364301e-01\n",
      "  1.41342342e-01  7.38003105e-02  9.55488682e-02 -1.39356345e-01\n",
      "  6.61797449e-03  1.53661430e-01 -1.47017047e-01  2.17910767e-01\n",
      "  1.76980212e-01 -2.86959484e-03 -1.60121080e-02 -3.06857787e-02\n",
      "  1.35590523e-01  7.28033334e-02 -1.12959497e-01 -9.19488072e-02\n",
      "  1.08957872e-01 -1.05121836e-01 -3.81611139e-02  1.31494388e-01\n",
      " -9.84020829e-02 -2.50959009e-01 -1.70678914e-01  7.43447319e-02\n",
      "  4.59243178e-01  2.25885317e-01 -2.30952740e-01 -5.34765013e-02\n",
      " -1.23653784e-02 -2.68891752e-02  1.68528497e-01  7.44442940e-02\n",
      " -3.05676721e-02 -8.72168392e-02 -8.71942043e-02 -1.62361078e-02\n",
      "  2.38784164e-01  4.33555357e-02 -9.57297906e-03  2.66020536e-01\n",
      "  3.70150357e-02 -3.45802233e-02 -3.96071002e-02  1.03550717e-01\n",
      " -1.28804356e-01 -3.13761495e-02 -1.18166611e-01 -7.60709047e-02\n",
      " -1.72535144e-02 -3.04115489e-02  8.40638578e-03  8.56066495e-02\n",
      " -1.74779072e-01  2.50854850e-01 -3.53019387e-02  1.12880375e-02\n",
      "  4.59950864e-02 -1.83723122e-02 -3.31372507e-02  6.58842176e-02\n",
      "  2.05874071e-01 -2.46998817e-01  1.46981150e-01  1.57198220e-01\n",
      "  3.25750969e-02  1.03613175e-01  6.21978566e-02  2.42884625e-02\n",
      "  3.52808386e-02  2.13900208e-03 -1.43554047e-01 -1.55733004e-01\n",
      " -1.63005181e-02 -1.48955554e-01 -5.54873720e-02 -2.05813497e-02]\n"
     ]
    }
   ],
   "source": [
    "data = pickle.load(open(\"lfw_funneled_test_1.pickle\", \"rb\"))\n",
    "encodings = data['encodings']\n",
    "names = data['names']\n",
    "print(f\"name {names[0]}\")\n",
    "print(f\"encoding {encodings[0]}\")"
   ],
   "metadata": {
    "collapsed": false,
    "pycharm": {
     "name": "#%%\n"
    }
   }
  },
  {
   "cell_type": "code",
   "execution_count": 30,
   "outputs": [
    {
     "data": {
      "text/plain": "4"
     },
     "execution_count": 30,
     "metadata": {},
     "output_type": "execute_result"
    }
   ],
   "source": [
    "len([name for name in names if name == names[0]])"
   ],
   "metadata": {
    "collapsed": false,
    "pycharm": {
     "name": "#%%\n"
    }
   }
  },
  {
   "cell_type": "code",
   "execution_count": 31,
   "outputs": [],
   "source": [
    "import cv2\n",
    "from imutils import paths\n",
    "import face_recognition\n",
    "import argparse\n",
    "import pickle\n",
    "import cv2\n",
    "import os"
   ],
   "metadata": {
    "collapsed": false,
    "pycharm": {
     "name": "#%%\n"
    }
   }
  },
  {
   "cell_type": "code",
   "execution_count": null,
   "outputs": [],
   "source": [],
   "metadata": {
    "collapsed": false,
    "pycharm": {
     "name": "#%%\n"
    }
   }
  }
 ],
 "metadata": {
  "kernelspec": {
   "display_name": "Python 3",
   "language": "python",
   "name": "python3"
  },
  "language_info": {
   "codemirror_mode": {
    "name": "ipython",
    "version": 2
   },
   "file_extension": ".py",
   "mimetype": "text/x-python",
   "name": "python",
   "nbconvert_exporter": "python",
   "pygments_lexer": "ipython2",
   "version": "2.7.6"
  }
 },
 "nbformat": 4,
 "nbformat_minor": 0
}